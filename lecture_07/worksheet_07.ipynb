{
 "cells": [
  {
   "attachments": {},
   "cell_type": "markdown",
   "metadata": {},
   "source": [
    "# Worksheet 07\n",
    "\n",
    "Name:  Shangzhou Yin\n",
    "UID: U63027471\n",
    "\n",
    "### Topics\n",
    "\n",
    "- Density-Based Clustering\n",
    "\n",
    "### Density-Based Clustering\n",
    "\n",
    "Follow along with the live coding of the DBScan algorithm."
   ]
  },
  {
   "cell_type": "code",
   "execution_count": null,
   "metadata": {},
   "outputs": [],
   "source": [
    "import numpy as np\n",
    "import matplotlib.pyplot as plt\n",
    "import sklearn.datasets as datasets\n",
    "\n",
    "centers = [[1, 1], [-1, -1], [1, -1]]\n",
    "X, _ = datasets.make_blobs(n_samples=750, centers=centers, cluster_std=0.4,\n",
    "                            random_state=0)\n",
    "plt.scatter(X[:,0],X[:,1],s=10, alpha=0.8)\n",
    "plt.show()\n",
    "\n",
    "class DBC():\n",
    "\n",
    "    def __init__(self, dataset, min_pts, epsilon):\n",
    "        self.dataset = dataset\n",
    "        self.min_pts = min_pts\n",
    "        self.epsilon = epsilon\n",
    "        self.assignments = [0 for _ in range(len(self.dataset))]\n",
    "    \n",
    "    def is_core(self, i):\n",
    "        return len(self.get_neighborbood(i)) >= self.min_pts\n",
    "    \n",
    "    def distance(self, i, j):\n",
    "        '''\n",
    "        return the eculidean distance\n",
    "        '''\n",
    "        return np.linalg.norm(self.dataset[i]- self.dataset[j])\n",
    "\n",
    "    def get_neighborbood(self, i):\n",
    "        neighborhood = []\n",
    "        for j in range(len(self.dataset)):\n",
    "            if self.distance(i ,j) <= self.epsilon and i != j:\n",
    "                neighborhood.append(j)\n",
    "        return neighborhood\n",
    "\n",
    "    def assign(self, i, cluster_num):\n",
    "        self.assignments[i] = cluster_num\n",
    "        neighbor_queue = self.get_neighborbood(i)\n",
    "\n",
    "        while neighbor_queue:\n",
    "            next_candidate = neighbor_queue.pop()\n",
    "            if self.assignments[next_candidate] != 0:\n",
    "                continue\n",
    "                # already assigned\n",
    "            self.assignments[next_candidate] = cluster_num\n",
    "\n",
    "            if self.is_core(next_candidate):\n",
    "                next_neighborhood = self.get_neighborbood(next_candidate)\n",
    "                neighbor_queue += [i for i in next_neighborhood if self.assignments[i] == 0]\n",
    "        return \n",
    "\n",
    "    def dbscan(self):\n",
    "        \"\"\"\n",
    "        returns a list of assignments. The index of the\n",
    "        assignment should match the index of the data point\n",
    "        in the dataset.\n",
    "        \"\"\"\n",
    "        assignments = [0 for _ in range(len(self.dataset))]\n",
    "        cluster_num = 1\n",
    "        for i in range(len(self.dataset)):\n",
    "            if self.is_core(i) and self.assignments[i] == 0:\n",
    "                self.assign(i, cluster_num)\n",
    "                # cluster_num += 1\n",
    "\n",
    "        return self.assignments\n",
    "\n",
    "clustering = DBC(X, 3, .1).dbscan()\n",
    "colors = np.array([x for x in 'bgrcmykbgrcmykbgrcmykbgrcmyk'])\n",
    "colors = np.hstack([colors] * 40)\n",
    "plt.scatter(X[:, 0], X[:, 1], color=colors[clustering].tolist(), s=10, alpha=0.8)\n",
    "plt.show()"
   ]
  },
  {
   "cell_type": "code",
   "execution_count": null,
   "metadata": {},
   "outputs": [],
   "source": []
  }
 ],
 "metadata": {
  "kernelspec": {
   "display_name": "Python 3",
   "language": "python",
   "name": "python3"
  },
  "language_info": {
   "codemirror_mode": {
    "name": "ipython",
    "version": 3
   },
   "file_extension": ".py",
   "mimetype": "text/x-python",
   "name": "python",
   "nbconvert_exporter": "python",
   "pygments_lexer": "ipython3",
   "version": "3.10.11"
  },
  "orig_nbformat": 4,
  "vscode": {
   "interpreter": {
    "hash": "76ca05dc3ea24b2e3b98cdb7774adfbb40773424bf5109b477fd793f623715af"
   }
  }
 },
 "nbformat": 4,
 "nbformat_minor": 2
}
