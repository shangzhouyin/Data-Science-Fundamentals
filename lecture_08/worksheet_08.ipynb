{
 "cells": [
  {
   "attachments": {},
   "cell_type": "markdown",
   "metadata": {},
   "source": [
    "# Worksheet 08\n",
    "\n",
    "Name:  \n",
    "UID: \n",
    "\n",
    "### Topics\n",
    "\n",
    "- Soft Clustering\n",
    "- Clustering Aggregation\n",
    "\n",
    "### Probability Review\n",
    "\n",
    "Read through [the following](https://medium.com/@gallettilance/overview-of-probability-3272b72c82c8)\n",
    "\n",
    "### Soft Clustering\n",
    "\n",
    "We generate 10 data points that come from a normal distribution with mean 5 and variance 1."
   ]
  },
  {
   "cell_type": "code",
   "execution_count": 21,
   "metadata": {},
   "outputs": [
    {
     "name": "stdout",
     "output_type": "stream",
     "text": [
      "[5.183195982580061, 4.792384572756389, 5.743165635319489, 3.399533967013456, 4.700078521556765, 4.8054328090445, 5.170314605872873, 4.463885248699418, 5.413764169386793, 4.634202908070582]\n"
     ]
    }
   ],
   "source": [
    "import random\n",
    "import numpy as np\n",
    "from sklearn.cluster import KMeans\n",
    "\n",
    "mean = 5\n",
    "stdev = 1\n",
    "\n",
    "c1 = np.random.normal(mean, stdev, 10).tolist()\n",
    "print(c1)"
   ]
  },
  {
   "cell_type": "markdown",
   "metadata": {},
   "source": [
    "a) Generate 10 more data points, this time coming from a normal distribution with mean 8 and variance 1."
   ]
  },
  {
   "cell_type": "code",
   "execution_count": 22,
   "metadata": {},
   "outputs": [
    {
     "name": "stdout",
     "output_type": "stream",
     "text": [
      "[9.103810951923226, 8.818496980339233, 8.889862115759236, 6.551743650780935, 8.264312847168053, 7.809302744666713, 8.210837952633753, 7.386455667253012, 7.259879320533689, 6.843052495967454]\n"
     ]
    }
   ],
   "source": [
    "c2 = np.random.normal( 8 , 1 , 10 ).tolist()\n",
    "print(c2)"
   ]
  },
  {
   "cell_type": "markdown",
   "metadata": {},
   "source": [
    "b) Flip a fair coin 10 times. If the coin lands on H, then pick the last data point of `c1` and remove it from `c1`, if T then pick the last data point from `c2` and remove it from `c2`. Add these 10 points to a list called `data`."
   ]
  },
  {
   "cell_type": "code",
   "execution_count": 23,
   "metadata": {},
   "outputs": [
    {
     "name": "stdout",
     "output_type": "stream",
     "text": [
      "[4.634202908070582, 6.843052495967454, 7.259879320533689, 7.386455667253012, 8.210837952633753, 7.809302744666713, 5.413764169386793, 8.264312847168053, 6.551743650780935, 8.889862115759236]\n"
     ]
    }
   ],
   "source": [
    "data = []\n",
    "for i in range(10):\n",
    "    # flip coin\n",
    "    coin_output = random.choice([0, 1])\n",
    "    if coin_output == 0:\n",
    "        p1 = c1.pop()\n",
    "        data.append(p1)\n",
    "    else:\n",
    "        p2 = c2.pop()\n",
    "        data.append(p2)\n",
    "print(data)"
   ]
  },
  {
   "cell_type": "markdown",
   "metadata": {},
   "source": [
    "c) This `data` is a Gaussian Mixture Distribution with 2 mixture components. Over the next few questions we will walk through the GMM algorithm to see if we can uncover the parameters we used to generate this data. First, please list all these parameters of the GMM that created `data` and the values we know they have."
   ]
  },
  {
   "cell_type": "markdown",
   "metadata": {},
   "source": [
    "prior probability \n",
    "mean \n",
    "variance\n"
   ]
  },
  {
   "cell_type": "markdown",
   "metadata": {},
   "source": [
    "d) Let's assume there are two mixture components (note: we could plot the data and make the observation that there are two clusters). The EM algorithm asks us to start with a random `mean_j`, `variance_j`, `P(C_j)` for each component j. One method we could use to find sensible values for these is to apply K means with k=2 here.\n",
    "\n",
    "1. the centroids would be the estimates of the `mean_j`\n",
    "2. the intra-cluster variance could be the estimate of `variance_j`\n",
    "3. the proportion of points in each cluster could be the estimate of `P(C_j)`\n",
    "\n",
    "Go through this process and list the parameter estimates it gives. Are they close or far from the true values?"
   ]
  },
  {
   "cell_type": "code",
   "execution_count": 24,
   "metadata": {},
   "outputs": [
    {
     "name": "stdout",
     "output_type": "stream",
     "text": [
      "[6.843052495967454, 7.259879320533689, 7.386455667253012, 8.210837952633753, 7.809302744666713, 8.264312847168053, 6.551743650780935, 8.889862115759236]\n",
      "[4.634202908070582, 5.413764169386793]\n",
      "P(C_1) = 0.8,  P(C_2) = 0.2\n",
      "mean_1 = 7.651930849345356,  mean_2 = 5.023983538728688\n",
      "var_1 = 0.5416882663955696,  var_2 = 7.058036007413609\n"
     ]
    },
    {
     "name": "stderr",
     "output_type": "stream",
     "text": [
      "C:\\Users\\cxysz\\AppData\\Local\\Packages\\PythonSoftwareFoundation.Python.3.10_qbz5n2kfra8p0\\LocalCache\\local-packages\\Python310\\site-packages\\sklearn\\cluster\\_kmeans.py:1416: FutureWarning: The default value of `n_init` will change from 10 to 'auto' in 1.4. Set the value of `n_init` explicitly to suppress the warning\n",
      "  super()._check_params_vs_input(X, default_n_init=10)\n"
     ]
    }
   ],
   "source": [
    "kmeans = KMeans(2, init='k-means++').fit(X=np.array(data).reshape(-1, 1))\n",
    "\n",
    "c1 = [x[0] for x in filter(lambda x: x[1] == 0, zip(data, kmeans.labels_))]\n",
    "print(c1)\n",
    "c2 = [x[0] for x in filter(lambda x: x[1] == 1, zip(data, kmeans.labels_))]\n",
    "print(c2)\n",
    "\n",
    "prob_c = [ len(c1) / (len(c1) + len(c2)) , len(c2) / (len(c1) + len(c2)) ]\n",
    "mean = [ sum(c1)/len(c1) , sum(c2)/len(c2)]\n",
    "var = [ sum(map(lambda x : (x - mean[0])**2, c1)) / len(c1) , sum(map(lambda x : (x - mean[0])**2, c2)) / len(c2)]\n",
    "\n",
    "print(\"P(C_1) = \" + str(prob_c[0]) + \",  P(C_2) = \" + str(prob_c[1]))\n",
    "print(\"mean_1 = \" + str(mean[0]) + \",  mean_2 = \" + str(mean[1]))\n",
    "print(\"var_1 = \" + str(var[0]) + \",  var_2 = \" + str(var[1]))"
   ]
  },
  {
   "cell_type": "markdown",
   "metadata": {},
   "source": [
    "close to the true value"
   ]
  },
  {
   "cell_type": "markdown",
   "metadata": {},
   "source": [
    "e) For each data point, compute `P(C_j | X_i)`. Comment on which cluster you think each point belongs to based on the estimated probabilities. How does that compare to the truth?"
   ]
  },
  {
   "cell_type": "code",
   "execution_count": 25,
   "metadata": {},
   "outputs": [
    {
     "name": "stdout",
     "output_type": "stream",
     "text": [
      "point =  4.634202908070582\n",
      "probability of observing that point if it came from cluster 0 =  1.3422939731502967e-07\n",
      "probability of observing that point if it came from cluster 1 =  0.056437002379720484\n",
      "point =  6.843052495967454\n",
      "probability of observing that point if it came from cluster 0 =  0.24152598962035152\n",
      "probability of observing that point if it came from cluster 1 =  0.05467669096291771\n",
      "point =  7.259879320533689\n",
      "probability of observing that point if it came from cluster 0 =  0.5667782332570666\n",
      "probability of observing that point if it came from cluster 1 =  0.05375694347521338\n",
      "point =  7.386455667253012\n",
      "probability of observing that point if it came from cluster 0 =  0.6531377008392818\n",
      "probability of observing that point if it came from cluster 1 =  0.05344381312960524\n",
      "point =  8.210837952633753\n",
      "probability of observing that point if it came from cluster 0 =  0.4325027871794663\n",
      "probability of observing that point if it came from cluster 1 =  0.05104533320301828\n",
      "point =  7.809302744666713\n",
      "probability of observing that point if it came from cluster 0 =  0.7060457769227151\n",
      "probability of observing that point if it came from cluster 1 =  0.05228884917533759\n",
      "point =  5.413764169386793\n",
      "probability of observing that point if it came from cluster 0 =  0.000144547085687263\n",
      "probability of observing that point if it came from cluster 1 =  0.056437002379720484\n",
      "point =  8.264312847168053\n",
      "probability of observing that point if it came from cluster 0 =  0.38871992447702874\n",
      "probability of observing that point if it came from cluster 1 =  0.05086954889798492\n",
      "point =  6.551743650780935\n",
      "probability of observing that point if it came from cluster 0 =  0.09362824661040149\n",
      "probability of observing that point if it came from cluster 1 =  0.055214364114717036\n",
      "point =  8.889862115759236\n",
      "probability of observing that point if it came from cluster 0 =  0.05408390246206162\n",
      "probability of observing that point if it came from cluster 1 =  0.04864978331041906\n",
      "4.634202908070582\n",
      "Probability of coming from C_1 = 9.513483329449702e-06\n",
      "Probability of coming from C_2 = 0.9999904865166706\n",
      "\n",
      "6.843052495967454\n",
      "Probability of coming from C_1 = 0.9464363955246587\n",
      "Probability of coming from C_2 = 0.053563604475341225\n",
      "\n",
      "7.259879320533689\n",
      "Probability of coming from C_1 = 0.976837588345883\n",
      "Probability of coming from C_2 = 0.023162411654117046\n",
      "\n",
      "7.386455667253012\n",
      "Probability of coming from C_1 = 0.9799535179857063\n",
      "Probability of coming from C_2 = 0.02004648201429375\n",
      "\n",
      "8.210837952633753\n",
      "Probability of coming from C_1 = 0.9713398571459309\n",
      "Probability of coming from C_2 = 0.02866014285406911\n",
      "\n",
      "7.809302744666713\n",
      "Probability of coming from C_1 = 0.9818218811240197\n",
      "Probability of coming from C_2 = 0.01817811887598036\n",
      "\n",
      "5.413764169386793\n",
      "Probability of coming from C_1 = 0.010140952532518486\n",
      "Probability of coming from C_2 = 0.9898590474674814\n",
      "\n",
      "8.264312847168053\n",
      "Probability of coming from C_1 = 0.968320365711417\n",
      "Probability of coming from C_2 = 0.03167963428858305\n",
      "\n",
      "6.551743650780935\n",
      "Probability of coming from C_1 = 0.8715130325234436\n",
      "Probability of coming from C_2 = 0.12848696747655644\n",
      "\n",
      "8.889862115759236\n",
      "Probability of coming from C_1 = 0.8164057922947888\n",
      "Probability of coming from C_2 = 0.18359420770521107\n",
      "\n"
     ]
    }
   ],
   "source": [
    "from scipy.stats import norm\n",
    "\n",
    "prob_c0_x = [] # P(C_0 | X_i)\n",
    "prob_c1_x = [] # P(C_1 | X_i)\n",
    "prob_x = [] # P(X_i)\n",
    "\n",
    "k = 2\n",
    "\n",
    "for p in data:\n",
    "    print(\"point = \", p)\n",
    "    pdf_i = []\n",
    "\n",
    "    for j in range(k):\n",
    "        # P(X_i | C_j)\n",
    "        pdf_i.append(norm.pdf(p, mean[j], var[j]))\n",
    "        print(\"probability of observing that point if it came from cluster \" + str(j) + \" = \", pdf_i[j])\n",
    "        # P(C_j) already computed\n",
    "        prob_c[j]\n",
    "\n",
    "    # P(X_i) = P(C_0)P(X_i | C_0) + P(C_1)P(X_i | C_1)\n",
    "    prob_x = prob_c[0] * pdf_i[0] + prob_c[1] * pdf_i[1]\n",
    "\n",
    "    # P(C_j | X_i) = P(X_i | C_j)P(C_j) / P(X_i)\n",
    "    prob_c0_x.append(prob_c[0] * pdf_i[0] / prob_x)\n",
    "    prob_c1_x.append(prob_c[1] * pdf_i[1] / prob_x)\n",
    "\n",
    "probs = zip(data, prob_c0_x, prob_c1_x)\n",
    "for p in probs:\n",
    "    print(p[0])\n",
    "    print(\"Probability of coming from C_1 = \" + str(p[1]))\n",
    "    print(\"Probability of coming from C_2 = \" + str(p[2]))\n",
    "    print()\n"
   ]
  },
  {
   "cell_type": "markdown",
   "metadata": {},
   "source": [
    "f) Having computed `P(C_j | X_i)`, update the estimates of `mean_j`, `var_j`, and `P(C_j)`. How different are these values from the original ones you got from K means? briefly comment."
   ]
  },
  {
   "cell_type": "code",
   "execution_count": 26,
   "metadata": {},
   "outputs": [
    {
     "name": "stdout",
     "output_type": "stream",
     "text": [
      "P(C_1) = 0.7522778896671696,  P(C_2) = 0.24772211033283043\n",
      "mean_1 = 7.640074443186303,  mean_2 = 5.5662464135685665\n",
      "var_1 = 0.5164524736675657,  var_2 = 1.5288316250080012\n"
     ]
    }
   ],
   "source": [
    "prob_c = [sum(prob_c0_x)/ len(prob_c0_x), sum(prob_c1_x)/ len(prob_c1_x)]\n",
    "mean = [sum([x[0] * x[1] for x in zip(prob_c0_x, data)]) / sum(prob_c0_x), sum([x[0] * x[1] for x in zip(prob_c1_x, data)]) / sum(prob_c1_x) ]\n",
    "var = [sum([x * (data[i] - mean[0])**2 for i, x in enumerate(prob_c0_x)]) / sum(prob_c0_x), \n",
    "       sum([x * (data[i] - mean[1])**2 for i, x in enumerate(prob_c1_x)]) / sum(prob_c1_x) ]\n",
    "\n",
    "print(\"P(C_1) = \" + str(prob_c[0]) + \",  P(C_2) = \" + str(prob_c[1]))\n",
    "print(\"mean_1 = \" + str(mean[0]) + \",  mean_2 = \" + str(mean[1]))\n",
    "print(\"var_1 = \" + str(var[0]) + \",  var_2 = \" + str(var[1]))"
   ]
  },
  {
   "cell_type": "markdown",
   "metadata": {},
   "source": [
    "the updated values of mean_j and var_j should be closer to the true values"
   ]
  },
  {
   "cell_type": "markdown",
   "metadata": {},
   "source": [
    "g) Update `P(C_j | X_i)`. Comment on any differences or lack thereof you observe."
   ]
  },
  {
   "cell_type": "code",
   "execution_count": 27,
   "metadata": {},
   "outputs": [
    {
     "name": "stdout",
     "output_type": "stream",
     "text": [
      "point =  4.634202908070582\n",
      "probability of observing that point if it came from cluster 0 =  3.404107776292372e-08\n",
      "probability of observing that point if it came from cluster 1 =  0.21669262002643835\n",
      "point =  6.843052495967454\n",
      "probability of observing that point if it came from cluster 0 =  0.23480574431832066\n",
      "probability of observing that point if it came from cluster 1 =  0.184117455761509\n",
      "point =  7.259879320533689\n",
      "probability of observing that point if it came from cluster 0 =  0.5891130130897232\n",
      "probability of observing that point if it came from cluster 1 =  0.1412748705811772\n",
      "point =  7.386455667253012\n",
      "probability of observing that point if it came from cluster 0 =  0.6847197589784786\n",
      "probability of observing that point if it came from cluster 1 =  0.12845292998811333\n",
      "point =  8.210837952633753\n",
      "probability of observing that point if it came from cluster 0 =  0.4194303710998776\n",
      "probability of observing that point if it came from cluster 1 =  0.058450946869895874\n",
      "point =  7.809302744666713\n",
      "probability of observing that point if it came from cluster 0 =  0.7320900097279737\n",
      "probability of observing that point if it came from cluster 1 =  0.08894503753471596\n",
      "point =  5.413764169386793\n",
      "probability of observing that point if it came from cluster 0 =  7.123288930734156e-05\n",
      "probability of observing that point if it came from cluster 1 =  0.25965118531683257\n",
      "point =  8.264312847168053\n",
      "probability of observing that point if it came from cluster 0 =  0.3720787520252452\n",
      "probability of observing that point if it came from cluster 1 =  0.054985606701504895\n",
      "point =  6.551743650780935\n",
      "probability of observing that point if it came from cluster 0 =  0.08386340041823809\n",
      "probability of observing that point if it came from cluster 1 =  0.21199297759411675\n",
      "point =  8.889862115759236\n",
      "probability of observing that point if it came from cluster 0 =  0.041327029040290765\n",
      "probability of observing that point if it came from cluster 1 =  0.024563615647964568\n"
     ]
    }
   ],
   "source": [
    "prob_c0_x = [] # P(C_0 | X_i)\n",
    "prob_c1_x = [] # P(C_1 | X_i)\n",
    "prob_x = [] # P(X_i)\n",
    "\n",
    "k = 2\n",
    "\n",
    "for p in data:\n",
    "    print(\"point = \", p)\n",
    "    pdf_i = []\n",
    "\n",
    "    for j in range(k):\n",
    "        # P(X_i | C_j)\n",
    "        pdf_i.append(norm.pdf(p, mean[j], var[j]))\n",
    "        print(\"probability of observing that point if it came from cluster \" + str(j) + \" = \", pdf_i[j])\n",
    "        # P(C_j) already computed\n",
    "        prob_c[j]\n",
    "\n",
    "    # P(X_i) = P(C_0)P(X_i | C_0) + P(C_1)P(X_i | C_1)\n",
    "    prob_x = prob_c[0] * pdf_i[0] + prob_c[1] * pdf_i[1]\n",
    "\n",
    "    # P(C_j | X_i) = P(X_i | C_j)P(C_j) / P(X_i)\n",
    "    prob_c0_x.append(prob_c[0] * pdf_i[0] / prob_x)\n",
    "    prob_c1_x.append(prob_c[1] * pdf_i[1] / prob_x)"
   ]
  },
  {
   "cell_type": "markdown",
   "metadata": {},
   "source": [
    " the model is more confident in the second set of output, as the probabilities for each point are more heavily skewed towards one cluster."
   ]
  },
  {
   "cell_type": "markdown",
   "metadata": {},
   "source": [
    "h) Use `P(C_j | X_i)` to create a hard assignment - label each point as belonging to a specific cluster (0 or 1)"
   ]
  },
  {
   "cell_type": "code",
   "execution_count": 28,
   "metadata": {},
   "outputs": [
    {
     "name": "stdout",
     "output_type": "stream",
     "text": [
      "5\n"
     ]
    }
   ],
   "source": [
    "assignments = np.argmax(prob_c0_x)\n",
    "print(assignments)"
   ]
  },
  {
   "cell_type": "markdown",
   "metadata": {},
   "source": [
    "### Clustering Aggregation\n",
    "\n",
    "| Point | C | P |\n",
    "|-------|---|---|\n",
    "| A     | 0 | a |\n",
    "| B     | 0 | b |\n",
    "| C     | 2 | b |\n",
    "| D     | 1 | c |\n",
    "| E     | 1 | d |\n",
    "\n",
    "a) Fill in the following table where for each pair of points determine whether C and P agree or disagree on how to cluster that pair."
   ]
  },
  {
   "cell_type": "markdown",
   "metadata": {},
   "source": [
    "| Pair | Disagreement |\n",
    "|------|--------------|\n",
    "| A  B |      disgree      |\n",
    "| A  C |      agree      |\n",
    "| A  D |      agree      |\n",
    "| A  E |      agree      |\n",
    "| B  C |      agree      |\n",
    "| B  D |      agree       |\n",
    "| B  E |      agree       |\n",
    "| C  D |      agree       |\n",
    "| C  E |      agree       |\n",
    "| D  E |      disagree     |\n"
   ]
  },
  {
   "cell_type": "markdown",
   "metadata": {},
   "source": [
    "As datasets become very large, this process can become computationally challenging.\n",
    "\n",
    "b) Given N points, what is the formula for the number of unique pairs of points one can create?"
   ]
  },
  {
   "cell_type": "markdown",
   "metadata": {},
   "source": [
    "N(N-1)/2"
   ]
  },
  {
   "cell_type": "markdown",
   "metadata": {},
   "source": [
    "Assume that clustering C clusters all points in the same cluster and clustering P clusters points as such:\n",
    "\n",
    "| Point | P |\n",
    "|-------|---|\n",
    "| A     | 0 |\n",
    "| B     | 0 |\n",
    "| C     | 0 |\n",
    "| D     | 1 |\n",
    "| E     | 1 |\n",
    "| F     | 2 |\n",
    "| G     | 2 |\n",
    "| H     | 2 |\n",
    "| I     | 2 |\n",
    "\n",
    "c) What is the maximum number of disagreements there could be for a dataset of this size? (use the formula from b)?"
   ]
  },
  {
   "cell_type": "markdown",
   "metadata": {},
   "source": [
    "26"
   ]
  },
  {
   "cell_type": "markdown",
   "metadata": {},
   "source": [
    "d) If we look at cluster 0. There are (3 x 2) / 2 = 3 pairs that agree with C (since all points in C are in the same cluster). For each cluster, determine how many agreements there are. How many total agreements are there? How many disagreements does that mean there are between C and P?"
   ]
  },
  {
   "cell_type": "markdown",
   "metadata": {},
   "source": [
    "for cluster1: 1\n",
    "\n",
    "for cluster2: 6\n",
    "\n",
    "total agreement: 3+1+6=10\n",
    "\n",
    "disagreement: 26"
   ]
  },
  {
   "cell_type": "markdown",
   "metadata": {},
   "source": [
    "e) Assuming that filtering the dataset by cluster number is a computationally easy operation, describe an algorithm inspired by the above process that can efficiently compute disagreement distances on large datasets."
   ]
  },
  {
   "cell_type": "markdown",
   "metadata": {},
   "source": [
    "\n",
    "1.Cluster the data using some clustering algorithm to obtain cluster assignments for each data point.\n",
    "\n",
    "2.For each cluster, create a sub-dataset containing only the points in that cluster.\n",
    "\n",
    "3.Compute the disagreement distance for each pair of sub-datasets. This can be done by calculating the number of disagreements between the two sub-datasets using the method described in parts (a) and (b) of the previous questions.\n",
    "\n",
    "4.Combine the disagreement distances for each pair of sub-datasets to obtain a single overall disagreement distance for the entire dataset.1."
   ]
  },
  {
   "cell_type": "markdown",
   "metadata": {},
   "source": []
  },
  {
   "cell_type": "markdown",
   "metadata": {},
   "source": []
  }
 ],
 "metadata": {
  "interpreter": {
   "hash": "76ca05dc3ea24b2e3b98cdb7774adfbb40773424bf5109b477fd793f623715af"
  },
  "kernelspec": {
   "display_name": "Python 3.9.9 64-bit ('env': venv)",
   "language": "python",
   "name": "python3"
  },
  "language_info": {
   "codemirror_mode": {
    "name": "ipython",
    "version": 3
   },
   "file_extension": ".py",
   "mimetype": "text/x-python",
   "name": "python",
   "nbconvert_exporter": "python",
   "pygments_lexer": "ipython3",
   "version": "3.10.11"
  },
  "orig_nbformat": 4
 },
 "nbformat": 4,
 "nbformat_minor": 2
}
